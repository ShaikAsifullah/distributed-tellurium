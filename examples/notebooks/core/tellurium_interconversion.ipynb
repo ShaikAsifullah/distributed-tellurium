{
 "cells": [
  {
   "cell_type": "markdown",
   "metadata": {},
   "source": [
    "Back to the main [Index](../index.ipynb)"
   ]
  },
  {
   "cell_type": "markdown",
   "metadata": {},
   "source": [
    "#### Antimony, SBML, CellML"
   ]
  },
  {
   "cell_type": "code",
   "execution_count": 1,
   "metadata": {
    "collapsed": false
   },
   "outputs": [],
   "source": [
    "%matplotlib inline\n",
    "from __future__ import print_function\n",
    "import tellurium as te\n",
    "\n",
    "# antimony model\n",
    "ant_model = \"\"\"\n",
    "    S1 -> S2; k1*S1;\n",
    "    S2 -> S3; k2*S2;\n",
    "\n",
    "    k1= 0.1; k2 = 0.2; \n",
    "    S1 = 10; S2 = 0; S3 = 0;\n",
    "\"\"\"\n",
    "\n",
    "# convert to SBML\n",
    "sbml_model = te.antimonyToSBML(ant_model)\n",
    "\n",
    "# convert to CellML\n",
    "cellml_model = te.antimonyToCellML(ant_model)\n",
    "\n",
    "# or from the sbml\n",
    "cellml_model = te.sbmlToCellML(sbml_model)"
   ]
  },
  {
   "cell_type": "code",
   "execution_count": null,
   "metadata": {
    "collapsed": true
   },
   "outputs": [],
   "source": [
    ""
   ]
  }
 ],
 "metadata": {
  "kernelspec": {
   "display_name": "Python 2",
   "language": "python",
   "name": "python2"
  },
  "language_info": {
   "codemirror_mode": {
    "name": "ipython",
    "version": 2.0
   },
   "file_extension": ".py",
   "mimetype": "text/x-python",
   "name": "python",
   "nbconvert_exporter": "python",
   "pygments_lexer": "ipython2",
   "version": "2.7.6"
  }
 },
 "nbformat": 4,
 "nbformat_minor": 0
}