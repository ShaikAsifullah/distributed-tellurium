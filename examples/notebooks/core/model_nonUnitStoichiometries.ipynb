{
 "cells": [
  {
   "cell_type": "markdown",
   "metadata": {},
   "source": [
    "Back to the main [Index](../index.ipynb)"
   ]
  },
  {
   "cell_type": "markdown",
   "metadata": {},
   "source": [
    "### Non-unit stoichiometries\n",
    "The following example demonstrates how to create a model with non-unit stoichiometries."
   ]
  },
  {
   "cell_type": "code",
   "execution_count": null,
   "metadata": {
    "collapsed": false
   },
   "outputs": [],
   "source": [
    "%matplotlib inline\n",
    "from __future__ import print_function\n",
    "import tellurium as te\n",
    "\n",
    "r = te.loada('''\n",
    "  model pathway()\n",
    "    S1 + S2 -> 2 S3; k1*S1*S2\n",
    "    3 S3 -> 4 S4 + 6 S5; k2*S3^3\n",
    "    k1 = 0.1;k2 = 0.1;\n",
    "  end\n",
    "''')\n",
    "print(r.getCurrentAntimony())"
   ]
  }
 ],
 "metadata": {
  "kernelspec": {
   "display_name": "Python 2",
   "language": "python",
   "name": "python2"
  },
  "language_info": {
   "codemirror_mode": {
    "name": "ipython",
    "version": 2
   },
   "file_extension": ".py",
   "mimetype": "text/x-python",
   "name": "python",
   "nbconvert_exporter": "python",
   "pygments_lexer": "ipython2",
   "version": "2.7.6"
  }
 },
 "nbformat": 4,
 "nbformat_minor": 0
}
