{
 "cells": [
  {
   "cell_type": "markdown",
   "metadata": {},
   "source": [
    "Back to the main [Index](../index.ipynb)"
   ]
  },
  {
   "cell_type": "markdown",
   "metadata": {},
   "source": [
    "### Simple Example"
   ]
  },
  {
   "cell_type": "code",
   "execution_count": 1,
   "metadata": {
    "collapsed": false
   },
   "outputs": [
    {
     "data": {
      "image/png": "[encoded data removed]",
      "text/plain": [
       "<matplotlib.figure.Figure at 0x7f45f45b5990>"
      ]
     },
     "metadata": {},
     "output_type": "display_data"
    },
    {
     "data": {
      "text/plain": [
       "<module 'matplotlib.pyplot' from '/usr/local/lib/python2.7/dist-packages/matplotlib/pyplot.pyc'>"
      ]
     },
     "execution_count": 1,
     "metadata": {},
     "output_type": "execute_result"
    }
   ],
   "source": [
    "%matplotlib inline\n",
    "from __future__ import print_function\n",
    "import tellurium as te\n",
    "r = te.loada('S1 -> S2; k1*S1; k1 = 0.1; S1 = 10')\n",
    "r.simulate(0, 50, 100)\n",
    "r.plot();"
   ]
  },
  {
   "cell_type": "markdown",
   "metadata": {},
   "source": [
    "### More Complex Example\n",
    "Stochastic simulation of a linear chain."
   ]
  },
  {
   "cell_type": "code",
   "execution_count": 1,
   "metadata": {
    "collapsed": false
   },
   "outputs": [],
   "source": [
    "import tellurium as te\n",
    "import numpy as np\n",
    "\n",
    "r = te.loada('''\n",
    "    J1: S1 -> S2;  k1*S1; \n",
    "    J2: S2 -> S3; k2*S2 - k3*S3\n",
    "    # J2_1: S2 -> S3; k2*S2\n",
    "    # J2_2: S3 -> S2; k3*S3;\n",
    "    J3: S3 -> S4; k4*S3;\n",
    "\n",
    "    k1 = 0.1; k2 = 0.5; k3 = 0.5; k4 = 0.5;\n",
    "    S1 = 100;\n",
    "''')\n",
    "\n",
    "# set integrator, seed and selections for output\n",
    "r.setIntegrator('gillespie')\n",
    "r.setSeed(1234)\n",
    "r.selections = ['time'] + r.getBoundarySpeciesIds() + r.getFloatingSpeciesIds()\n",
    "\n",
    "# run repeated simulation\n",
    "Ncol = len(r.selections)\n",
    "Nsim = 30\n",
    "points = 101\n",
    "s_sum = np.zeros(shape=[points, Ncol])\n",
    "for k in range(Nsim):\n",
    "    r.resetToOrigin()\n",
    "    s = r.simulate(0, 50, points)\n",
    "    s_sum += s\n",
    "    # no legend, do not show\n",
    "    r.plot(s, show=False, loc=None, alpha=0.4, linewidth=1.0)\n",
    "    \n",
    "# add mean curve, legend, show everything and set labels, titels, ...\n",
    "s_mean = s_sum/Nsim\n",
    "r.plot(s_mean, loc='upper right', show=True, linewidth=3.0,\n",
    "       title=\"Stochastic simulation\", xlabel=\"time\", ylabel=\"concentration\", grid=True);"
   ]
  },
  {
   "cell_type": "code",
   "execution_count": null,
   "metadata": {
    "collapsed": true
   },
   "outputs": [],
   "source": []
  }
 ],
 "metadata": {
  "kernelspec": {
   "display_name": "Python 2",
   "language": "python",
   "name": "python2"
  },
  "language_info": {
   "codemirror_mode": {
    "name": "ipython",
    "version": 2
   },
   "file_extension": ".py",
   "mimetype": "text/x-python",
   "name": "python",
   "nbconvert_exporter": "python",
   "pygments_lexer": "ipython2",
   "version": "2.7.6"
  }
 },
 "nbformat": 4,
 "nbformat_minor": 0
}
