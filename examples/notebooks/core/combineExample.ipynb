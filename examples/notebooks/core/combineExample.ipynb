{
 "cells": [
  {
   "cell_type": "markdown",
   "metadata": {},
   "source": [
    "Back to the main [Index](../index.ipynb)"
   ]
  },
  {
   "cell_type": "markdown",
   "metadata": {},
   "source": [
    "### Combine archives\n",
    "The experiment, i.e. model with the simulation description, can be stored as Combine Archive."
   ]
  },
  {
   "cell_type": "code",
   "execution_count": 1,
   "metadata": {
    "collapsed": false
   },
   "outputs": [
    {
     "ename": "Exception",
     "evalue": "Error in task 'task0':  no such referenced model 'model1'.",
     "output_type": "error",
     "traceback": [
      "\u001b[1;31m---------------------------------------------------------------------------\u001b[0m",
      "\u001b[1;31mException\u001b[0m                                 Traceback (most recent call last)",
      "\u001b[1;32m<ipython-input-1-c07e5b68b88e>\u001b[0m in \u001b[0;36m<module>\u001b[1;34m()\u001b[0m\n\u001b[0;32m     20\u001b[0m \u001b[1;31m# phrasedml experiment\u001b[0m\u001b[1;33m\u001b[0m\u001b[1;33m\u001b[0m\u001b[0m\n\u001b[0;32m     21\u001b[0m \u001b[0mexp\u001b[0m \u001b[1;33m=\u001b[0m \u001b[0mte\u001b[0m\u001b[1;33m.\u001b[0m\u001b[0mexperiment\u001b[0m\u001b[1;33m(\u001b[0m\u001b[0mantimonyStr\u001b[0m\u001b[1;33m,\u001b[0m \u001b[0mphrasedmlStr\u001b[0m\u001b[1;33m)\u001b[0m\u001b[1;33m\u001b[0m\u001b[0m\n\u001b[1;32m---> 22\u001b[1;33m \u001b[0mexp\u001b[0m\u001b[1;33m.\u001b[0m\u001b[0mexecute\u001b[0m\u001b[1;33m(\u001b[0m\u001b[0mphrasedmlStr\u001b[0m\u001b[1;33m)\u001b[0m\u001b[1;33m\u001b[0m\u001b[0m\n\u001b[0m\u001b[0;32m     23\u001b[0m \u001b[1;33m\u001b[0m\u001b[0m\n\u001b[0;32m     24\u001b[0m \u001b[1;31m# create Combine Archive\u001b[0m\u001b[1;33m\u001b[0m\u001b[1;33m\u001b[0m\u001b[0m\n",
      "\u001b[1;32m/home/mkoenig/git/tellurium/tellurium/sedml/tephrasedml.py\u001b[0m in \u001b[0;36mexecute\u001b[1;34m(self, selPhrasedml, workingDir)\u001b[0m\n\u001b[0;32m     90\u001b[0m \u001b[1;33m\u001b[0m\u001b[0m\n\u001b[0;32m     91\u001b[0m         \u001b[1;31m# This calls exec. Be very sure that nothing bad happens here.\u001b[0m\u001b[1;33m\u001b[0m\u001b[1;33m\u001b[0m\u001b[0m\n\u001b[1;32m---> 92\u001b[1;33m         \u001b[0mexecStr\u001b[0m \u001b[1;33m=\u001b[0m \u001b[0mself\u001b[0m\u001b[1;33m.\u001b[0m\u001b[0m_toPython\u001b[0m\u001b[1;33m(\u001b[0m\u001b[0mselPhrasedml\u001b[0m\u001b[1;33m,\u001b[0m \u001b[0mworkingDir\u001b[0m\u001b[1;33m=\u001b[0m\u001b[0mworkingDir\u001b[0m\u001b[1;33m)\u001b[0m\u001b[1;33m\u001b[0m\u001b[0m\n\u001b[0m\u001b[0;32m     93\u001b[0m         \u001b[1;32mexec\u001b[0m \u001b[0mexecStr\u001b[0m\u001b[1;33m\u001b[0m\u001b[0m\n\u001b[0;32m     94\u001b[0m \u001b[1;33m\u001b[0m\u001b[0m\n",
      "\u001b[1;32m/home/mkoenig/git/tellurium/tellurium/sedml/tephrasedml.py\u001b[0m in \u001b[0;36m_toPython\u001b[1;34m(self, phrasedmlStr, workingDir)\u001b[0m\n\u001b[0;32m    137\u001b[0m         \u001b[0msedmlstr\u001b[0m \u001b[1;33m=\u001b[0m \u001b[0mphrasedml\u001b[0m\u001b[1;33m.\u001b[0m\u001b[0mconvertString\u001b[0m\u001b[1;33m(\u001b[0m\u001b[0mphrasedmlStr\u001b[0m\u001b[1;33m)\u001b[0m\u001b[1;33m\u001b[0m\u001b[0m\n\u001b[0;32m    138\u001b[0m         \u001b[1;32mif\u001b[0m \u001b[0msedmlstr\u001b[0m \u001b[1;32mis\u001b[0m \u001b[0mNone\u001b[0m\u001b[1;33m:\u001b[0m\u001b[1;33m\u001b[0m\u001b[0m\n\u001b[1;32m--> 139\u001b[1;33m             \u001b[1;32mraise\u001b[0m \u001b[0mException\u001b[0m\u001b[1;33m(\u001b[0m\u001b[0mphrasedml\u001b[0m\u001b[1;33m.\u001b[0m\u001b[0mgetLastError\u001b[0m\u001b[1;33m(\u001b[0m\u001b[1;33m)\u001b[0m\u001b[1;33m)\u001b[0m\u001b[1;33m\u001b[0m\u001b[0m\n\u001b[0m\u001b[0;32m    140\u001b[0m \u001b[1;33m\u001b[0m\u001b[0m\n\u001b[0;32m    141\u001b[0m         \u001b[1;31m# necessary to add the *.xml ending to the source\u001b[0m\u001b[1;33m\u001b[0m\u001b[1;33m\u001b[0m\u001b[0m\n",
      "\u001b[1;31mException\u001b[0m: Error in task 'task0':  no such referenced model 'model1'."
     ]
    }
   ],
   "source": [
    "%matplotlib inline\n",
    "from __future__ import print_function\n",
    "import tellurium as te\n",
    "\n",
    "antimonyStr = \"\"\"\n",
    "model test()\n",
    "    J0: S1 -> S2; k1*S1;\n",
    "    S1 = 10.0; S2=0.0;\n",
    "    k1 = 0.1;\n",
    "end\n",
    "\"\"\"\n",
    "\n",
    "phrasedmlStr = \"\"\"\n",
    "    model0 = model \"test\"\n",
    "    sim0 = simulate uniform(0, 6, 100)\n",
    "    task0 = run sim0 on model0\n",
    "    plot \"Timecourse test model\" task0.time vs task0.S1\n",
    "\"\"\"\n",
    "\n",
    "# phrasedml experiment\n",
    "exp = te.experiment(antimonyStr, phrasedmlStr)\n",
    "exp.execute(phrasedmlStr)\n",
    "\n",
    "# create Combine Archive\n",
    "import tempfile\n",
    "f = tempfile.NamedTemporaryFile()\n",
    "exp.exportAsCombine(f.name)\n",
    "\n",
    "# print the content of the Combine Archive\n",
    "import zipfile\n",
    "zip=zipfile.ZipFile(f.name)\n",
    "print(zip.namelist())"
   ]
  },
  {
   "cell_type": "markdown",
   "metadata": {
    "collapsed": true
   },
   "source": [
    "### Create combine archive\n",
    "TODO"
   ]
  },
  {
   "cell_type": "code",
   "execution_count": 14,
   "metadata": {
    "collapsed": false
   },
   "outputs": [
    {
     "name": "stdout",
     "output_type": "stream",
     "text": [
      "<tellurium.sedml.tephrasedml.experiment object at 0x7ff6f0755e90>\n",
      "<?xml version=\"1.0\" encoding=\"UTF-8\"?>\n",
      "<!-- Created by phraSED-ML version v1.0.1 on 2016-03-08 10:29 with libSBML version 5.12.1. -->\n",
      "<sedML xmlns=\"http://sed-ml.org/sed-ml/level1/version2\" level=\"1\" version=\"2\">\n",
      "  <listOfSimulations>\n",
      "    <uniformTimeCourse id=\"sim1\" initialTime=\"0\" outputStartTime=\"0\" outputEndTime=\"6\" numberOfPoints=\"100\">\n",
      "      <algorithm kisaoID=\"KISAO:0000019\"/>\n",
      "    </uniformTimeCourse>\n",
      "  </listOfSimulations>\n",
      "  <listOfModels>\n",
      "    <model id=\"model1\" language=\"urn:sedml:language:sbml.level-3.version-1\" source=\"test1\"/>\n",
      "    <model id=\"model2\" language=\"urn:sedml:language:sbml.level-3.version-1\" source=\"test2\"/>\n",
      "    <model id=\"model3\" language=\"urn:sedml:language:sbml.level-3.version-1\" source=\"model1\">\n",
      "      <listOfChanges>\n",
      "        <computeChange target=\"/sbml:sbml/sbml:model/descendant::*[@id='S1']\">\n",
      "          <listOfVariables>\n",
      "            <variable id=\"S2\" target=\"/sbml:sbml/sbml:model/descendant::*[@id='S2']\" modelReference=\"model3\"/>\n",
      "          </listOfVariables>\n",
      "          <math xmlns=\"http://www.w3.org/1998/Math/MathML\">\n",
      "            <apply>\n",
      "              <plus/>\n",
      "              <ci> S2 </ci>\n",
      "              <cn type=\"integer\"> 20 </cn>\n",
      "            </apply>\n",
      "          </math>\n",
      "        </computeChange>\n",
      "      </listOfChanges>\n",
      "    </model>\n",
      "  </listOfModels>\n",
      "  <listOfTasks>\n",
      "    <task id=\"task1\" modelReference=\"model1\" simulationReference=\"sim1\"/>\n",
      "    <task id=\"task2\" modelReference=\"model2\" simulationReference=\"sim1\"/>\n",
      "  </listOfTasks>\n",
      "  <listOfDataGenerators>\n",
      "    <dataGenerator id=\"plot_0_0_0\" name=\"task1.time\">\n",
      "      <listOfVariables>\n",
      "        <variable id=\"task1_____time\" symbol=\"urn:sedml:symbol:time\" taskReference=\"task1\"/>\n",
      "      </listOfVariables>\n",
      "      <math xmlns=\"http://www.w3.org/1998/Math/MathML\">\n",
      "        <ci> task1_____time </ci>\n",
      "      </math>\n",
      "    </dataGenerator>\n",
      "    <dataGenerator id=\"plot_0_0_1\" name=\"task1.S1\">\n",
      "      <listOfVariables>\n",
      "        <variable id=\"task1_____S1\" target=\"/sbml:sbml/sbml:model/descendant::*[@id='S1']\" taskReference=\"task1\" modelReference=\"model1\"/>\n",
      "      </listOfVariables>\n",
      "      <math xmlns=\"http://www.w3.org/1998/Math/MathML\">\n",
      "        <ci> task1_____S1 </ci>\n",
      "      </math>\n",
      "    </dataGenerator>\n",
      "    <dataGenerator id=\"plot_0_1_1\" name=\"task1.S2\">\n",
      "      <listOfVariables>\n",
      "        <variable id=\"task1_____S2\" target=\"/sbml:sbml/sbml:model/descendant::*[@id='S2']\" taskReference=\"task1\" modelReference=\"model1\"/>\n",
      "      </listOfVariables>\n",
      "      <math xmlns=\"http://www.w3.org/1998/Math/MathML\">\n",
      "        <ci> task1_____S2 </ci>\n",
      "      </math>\n",
      "    </dataGenerator>\n",
      "    <dataGenerator id=\"plot_1_0_0\" name=\"task2.time\">\n",
      "      <listOfVariables>\n",
      "        <variable id=\"task2_____time\" symbol=\"urn:sedml:symbol:time\" taskReference=\"task2\"/>\n",
      "      </listOfVariables>\n",
      "      <math xmlns=\"http://www.w3.org/1998/Math/MathML\">\n",
      "        <ci> task2_____time </ci>\n",
      "      </math>\n",
      "    </dataGenerator>\n",
      "    <dataGenerator id=\"plot_1_0_1\" name=\"task2.X1\">\n",
      "      <listOfVariables>\n",
      "        <variable id=\"task2_____X1\" target=\"/sbml:sbml/sbml:model/descendant::*[@id='X1']\" taskReference=\"task2\" modelReference=\"model2\"/>\n",
      "      </listOfVariables>\n",
      "      <math xmlns=\"http://www.w3.org/1998/Math/MathML\">\n",
      "        <ci> task2_____X1 </ci>\n",
      "      </math>\n",
      "    </dataGenerator>\n",
      "    <dataGenerator id=\"plot_1_1_1\" name=\"task2.X2\">\n",
      "      <listOfVariables>\n",
      "        <variable id=\"task2_____X2\" target=\"/sbml:sbml/sbml:model/descendant::*[@id='X2']\" taskReference=\"task2\" modelReference=\"model2\"/>\n",
      "      </listOfVariables>\n",
      "      <math xmlns=\"http://www.w3.org/1998/Math/MathML\">\n",
      "        <ci> task2_____X2 </ci>\n",
      "      </math>\n",
      "    </dataGenerator>\n",
      "  </listOfDataGenerators>\n",
      "  <listOfOutputs>\n",
      "    <plot2D id=\"plot_0\" name=\"Timecourse test1\">\n",
      "      <listOfCurves>\n",
      "        <curve logX=\"false\" logY=\"false\" xDataReference=\"plot_0_0_0\" yDataReference=\"plot_0_0_1\"/>\n",
      "        <curve logX=\"false\" logY=\"false\" xDataReference=\"plot_0_0_0\" yDataReference=\"plot_0_1_1\"/>\n",
      "      </listOfCurves>\n",
      "    </plot2D>\n",
      "    <plot2D id=\"plot_1\" name=\"Timecourse test2\">\n",
      "      <listOfCurves>\n",
      "        <curve logX=\"false\" logY=\"false\" xDataReference=\"plot_1_0_0\" yDataReference=\"plot_1_0_1\"/>\n",
      "        <curve logX=\"false\" logY=\"false\" xDataReference=\"plot_1_0_0\" yDataReference=\"plot_1_1_1\"/>\n",
      "      </listOfCurves>\n",
      "    </plot2D>\n",
      "  </listOfOutputs>\n",
      "</sedML>\n",
      "\n"
     ]
    }
   ],
   "source": [
    "import tellurium as te\n",
    "import phrasedml\n",
    "\n",
    "antTest1Str = \"\"\"\n",
    "model test1()\n",
    "    J0: S1 -> S2; k1*S1;\n",
    "    S1 = 10.0; S2=0.0;\n",
    "    k1 = 0.1;\n",
    "end\n",
    "\"\"\"\n",
    "\n",
    "antTest2Str = \"\"\"\n",
    "model test2()\n",
    "    v0: X1 -> X2; p1*X1;\n",
    "    X1 = 5.0; X2 = 20.0;\n",
    "    k1 = 0.2;\n",
    "end\n",
    "\"\"\"\n",
    "\n",
    "phrasedmlStr = \"\"\"\n",
    "    model1 = model \"test1\"\n",
    "    model2 = model \"test2\"\n",
    "    model3 = model model1 with S1=S2+20\n",
    "    sim1 = simulate uniform(0, 6, 100)\n",
    "    task1 = run sim1 on model1\n",
    "    task2 = run sim1 on model2\n",
    "    plot \"Timecourse test1\" task1.time vs task1.S1, task1.S2\n",
    "    plot \"Timecourse test2\" task2.time vs task2.X1, task2.X2\n",
    "\"\"\"\n",
    "\n",
    "# phrasedml.setReferencedSBML(\"test1\")\n",
    "exp = te.experiment(phrasedmlList=[phrasedmlStr], antimonyList=[antTest1Str])\n",
    "print(exp)\n",
    "\n",
    "# set first model\n",
    "phrasedml.setReferencedSBML(\"test1\", te.antimonyToSBML(antTest1Str))\n",
    "phrasedml.setReferencedSBML(\"test2\", te.antimonyToSBML(antTest2Str))\n",
    "\n",
    "sedmlstr = phrasedml.convertString(phrasedmlStr)\n",
    "if sedmlstr is None:\n",
    "    raise Exception(phrasedml.getLastError())\n",
    "print(sedmlstr)"
   ]
  },
  {
   "cell_type": "code",
   "execution_count": null,
   "metadata": {
    "collapsed": true
   },
   "outputs": [],
   "source": []
  },
  {
   "cell_type": "code",
   "execution_count": null,
   "metadata": {
    "collapsed": true
   },
   "outputs": [],
   "source": []
  }
 ],
 "metadata": {
  "kernelspec": {
   "display_name": "Python 2",
   "language": "python",
   "name": "python2"
  },
  "language_info": {
   "codemirror_mode": {
    "name": "ipython",
    "version": 2
   },
   "file_extension": ".py",
   "mimetype": "text/x-python",
   "name": "python",
   "nbconvert_exporter": "python",
   "pygments_lexer": "ipython2",
   "version": "2.7.6"
  }
 },
 "nbformat": 4,
 "nbformat_minor": 0
}
