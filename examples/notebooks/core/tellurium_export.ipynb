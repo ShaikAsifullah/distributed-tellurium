{
 "cells": [
  {
   "cell_type": "markdown",
   "metadata": {},
   "source": [
    "Back to the main [Index](../index.ipynb)"
   ]
  },
  {
   "cell_type": "markdown",
   "metadata": {},
   "source": [
    "#### SBML"
   ]
  },
  {
   "cell_type": "code",
   "execution_count": 1,
   "metadata": {
    "collapsed": false
   },
   "outputs": [
    {
     "name": "stdout",
     "output_type": "stream",
     "text": [
      "<?xml version=\"1.0\" encoding=\"UTF-8\"?>\n",
      "<!-- Created by libAntimony version v2.8.1 on 2016-02-12 23:02 with libSBML version 5.12.1. -->\n",
      "<sbml xmlns=\"http://www.sbml.org/sbml/level3/version1/core\" level=\"3\" version=\"1\">\n",
      "  <model id=\"__main\" name=\"__main\">\n",
      "    <listOfCompartments>\n",
      "      <compartment sboTerm=\"SBO:0000410\" id=\"default_compartment\" spatialDimensions=\"3\" size=\"1\" constant=\"true\"/>\n",
      "    </listOfCompartments>\n",
      "    <listOfSpecies>\n",
      "      <species id=\"S1\" compartment=\"default_compartment\" initialConcentration=\"10\" hasOnlySubstanceUnits=\"false\" boundaryCondition=\"false\" constant=\"false\"/>\n",
      "      <species id=\"S2\" compartment=\"default_compartment\" hasOnlySubstanceUnits=\"false\" boundaryCondition=\"false\" constant=\"false\"/>\n",
      "    </listOfSpecies>\n",
      "    <listOfParameters>\n",
      "      <parameter id=\"k1\" value=\"0.1\" constant=\"true\"/>\n",
      "    </listOfParameters>\n",
      "    <listOfReactions>\n",
      "      <reaction id=\"_J0\" reversible=\"true\" fast=\"false\">\n",
      "        <listOfReactants>\n",
      "          <speciesReference species=\"S1\" stoichiometry=\"1\" constant=\"true\"/>\n",
      "        </listOfReactants>\n",
      "        <listOfProducts>\n",
      "          <speciesReference species=\"S2\" stoichiometry=\"1\" constant=\"true\"/>\n",
      "        </listOfProducts>\n",
      "        <kineticLaw>\n",
      "          <math xmlns=\"http://www.w3.org/1998/Math/MathML\">\n",
      "            <apply>\n",
      "              <times/>\n",
      "              <ci> k1 </ci>\n",
      "              <ci> S1 </ci>\n",
      "            </apply>\n",
      "          </math>\n",
      "        </kineticLaw>\n",
      "      </reaction>\n",
      "    </listOfReactions>\n",
      "  </model>\n",
      "</sbml>\n",
      "\n"
     ]
    }
   ],
   "source": [
    "%matplotlib inline\n",
    "from __future__ import print_function\n",
    "import tellurium as te\n",
    "import tempfile\n",
    "\n",
    "# load model\n",
    "r = te.loada('S1 -> S2; k1*S1; k1 = 0.1; S1 = 10')\n",
    "# file for export\n",
    "f_sbml = tempfile.NamedTemporaryFile(suffix=\".xml\")\n",
    "\n",
    "# export current model state\n",
    "r.exportToSBML(f_sbml.name)\n",
    "\n",
    "# to export the initial state when the model was loaded\n",
    "# set the current argument to False\n",
    "r.exportToSBML(f_sbml.name, current=False)\n",
    "\n",
    "# The string representations of the current model are available via\n",
    "str_sbml = r.getCurrentSBML()\n",
    "\n",
    "# and of the initial state when the model was loaded via\n",
    "str_sbml = r.getSBML()\n",
    "print(str_sbml)"
   ]
  },
  {
   "cell_type": "markdown",
   "metadata": {},
   "source": [
    "#### Antimony"
   ]
  },
  {
   "cell_type": "code",
   "execution_count": 2,
   "metadata": {
    "collapsed": false
   },
   "outputs": [
    {
     "name": "stdout",
     "output_type": "stream",
     "text": [
      "// Created by libAntimony v2.8.1\n",
      "// Compartments and Species:\n",
      "species S1, S2;\n",
      "\n",
      "// Reactions:\n",
      "_J0: S1 -> S2; k1*S1;\n",
      "\n",
      "// Species initializations:\n",
      "S1 = 10;\n",
      "S2 = ;\n",
      "\n",
      "// Variable initializations:\n",
      "k1 = 0.1;\n",
      "\n",
      "// Other declarations:\n",
      "const k1;\n",
      "\n"
     ]
    }
   ],
   "source": [
    "import tellurium as te\n",
    "import tempfile\n",
    "\n",
    "# load model\n",
    "r = te.loada('S1 -> S2; k1*S1; k1 = 0.1; S1 = 10')\n",
    "# file for export\n",
    "f_antimony = tempfile.NamedTemporaryFile(suffix=\".txt\")\n",
    "\n",
    "# export current model state\n",
    "r.exportToAntimony(f_antimony.name)\n",
    "\n",
    "# to export the initial state when the model was loaded\n",
    "# set the current argument to False\n",
    "r.exportToAntimony(f_antimony.name, current=False)\n",
    "\n",
    "# The string representations of the current model are available via\n",
    "str_antimony = r.getCurrentAntimony()\n",
    "\n",
    "# and of the initial state when the model was loaded via\n",
    "str_antimony = r.getAntimony()\n",
    "print(str_antimony)"
   ]
  },
  {
   "cell_type": "markdown",
   "metadata": {
    "collapsed": true
   },
   "source": [
    "#### CellML"
   ]
  },
  {
   "cell_type": "code",
   "execution_count": 3,
   "metadata": {
    "collapsed": false
   },
   "outputs": [
    {
     "name": "stdout",
     "output_type": "stream",
     "text": [
      "<?xml version=\"1.0\"?>\n",
      "<model xmlns:cellml=\"http://www.cellml.org/cellml/1.1#\" xmlns=\"http://www.cellml.org/cellml/1.1#\" name=\"__main\">\n",
      "<component name=\"__main\">\n",
      "<variable initial_value=\"10\" name=\"S1\" units=\"dimensionless\"/>\n",
      "<variable name=\"S2\" units=\"dimensionless\"/>\n",
      "<variable initial_value=\"0.1\" name=\"k1\" units=\"dimensionless\"/>\n",
      "<variable name=\"_J0\" units=\"dimensionless\"/>\n",
      "<math xmlns=\"http://www.w3.org/1998/Math/MathML\">\n",
      "<apply>\n",
      "<eq/>\n",
      "<ci>_J0</ci>\n",
      "<apply>\n",
      "<times/>\n",
      "<ci>k1</ci>\n",
      "<ci>S1</ci>\n",
      "</apply>\n",
      "</apply>\n",
      "</math>\n",
      "<variable name=\"time\" units=\"dimensionless\"/>\n",
      "<math xmlns=\"http://www.w3.org/1998/Math/MathML\">\n",
      "<apply>\n",
      "<eq/>\n",
      "<apply>\n",
      "<diff/>\n",
      "<bvar>\n",
      "<ci>time</ci>\n",
      "</bvar>\n",
      "<ci>S2</ci>\n",
      "</apply>\n",
      "<ci>_J0</ci>\n",
      "</apply>\n",
      "</math>\n",
      "<math xmlns=\"http://www.w3.org/1998/Math/MathML\">\n",
      "<apply>\n",
      "<eq/>\n",
      "<apply>\n",
      "<diff/>\n",
      "<bvar>\n",
      "<ci>time</ci>\n",
      "</bvar>\n",
      "<ci>S1</ci>\n",
      "</apply>\n",
      "<apply>\n",
      "<minus/>\n",
      "<ci>_J0</ci>\n",
      "</apply>\n",
      "</apply>\n",
      "</math>\n",
      "</component>\n",
      "<group>\n",
      "<relationship_ref relationship=\"encapsulation\"/>\n",
      "<component_ref component=\"__main\"/>\n",
      "</group>\n",
      "</model>\n"
     ]
    }
   ],
   "source": [
    "import tellurium as te\n",
    "import tempfile\n",
    "\n",
    "# load model\n",
    "r = te.loada('S1 -> S2; k1*S1; k1 = 0.1; S1 = 10')\n",
    "# file for export\n",
    "f_cellml = tempfile.NamedTemporaryFile(suffix=\".cellml\")\n",
    "\n",
    "# export current model state\n",
    "r.exportToCellML(f_cellml.name)\n",
    "\n",
    "# to export the initial state when the model was loaded\n",
    "# set the current argument to False\n",
    "r.exportToCellML(f_cellml.name, current=False)\n",
    "\n",
    "# The string representations of the current model are available via\n",
    "str_cellml = r.getCurrentCellML()\n",
    "\n",
    "# and of the initial state when the model was loaded via\n",
    "str_cellml = r.getCellML()\n",
    "print(str_cellml)"
   ]
  },
  {
   "cell_type": "markdown",
   "metadata": {},
   "source": [
    "#### Matlab"
   ]
  },
  {
   "cell_type": "code",
   "execution_count": 4,
   "metadata": {
    "collapsed": false
   },
   "outputs": [
    {
     "name": "stdout",
     "output_type": "stream",
     "text": [
      "\n"
     ]
    },
    {
     "name": "stderr",
     "output_type": "stream",
     "text": [
      "/home/mkoenig/git/tellurium/tellurium/tellurium.py:653: RuntimeWarning: 'sbml2matlab' could not be imported, no support for Matlab code generation\n",
      "  saveToFile(filePath, self.getMatlab(current))\n",
      "/home/mkoenig/git/tellurium/tellurium/tellurium.py:611: RuntimeWarning: 'sbml2matlab' could not be imported, no support for Matlab code generation\n",
      "  return self.getMatlab(current=True)\n",
      "/usr/local/lib/python2.7/dist-packages/ipykernel/__main__.py:20: RuntimeWarning: 'sbml2matlab' could not be imported, no support for Matlab code generation\n"
     ]
    }
   ],
   "source": [
    "import tellurium as te\n",
    "import tempfile\n",
    "\n",
    "# load model\n",
    "r = te.loada('S1 -> S2; k1*S1; k1 = 0.1; S1 = 10')\n",
    "# file for export\n",
    "f_matlab = tempfile.NamedTemporaryFile(suffix=\".m\")\n",
    "\n",
    "# export current model state\n",
    "r.exportToMatlab(f_matlab.name)\n",
    "\n",
    "# to export the initial state when the model was loaded\n",
    "# set the current argument to False\n",
    "r.exportToMatlab(f_matlab.name, current=False)\n",
    "\n",
    "# The string representations of the current model are available via\n",
    "str_matlab = r.getCurrentMatlab()\n",
    "\n",
    "# and of the initial state when the model was loaded via\n",
    "str_matlab = r.getMatlab()\n",
    "print(str_matlab)"
   ]
  },
  {
   "cell_type": "code",
   "execution_count": 5,
   "metadata": {
    "collapsed": false
   },
   "outputs": [
    {
     "name": "stdout",
     "output_type": "stream",
     "text": [
      "<?xml version=\"1.0\"?>\n",
      "<model xmlns:cellml=\"http://www.cellml.org/cellml/1.1#\" xmlns=\"http://www.cellml.org/cellml/1.1#\" name=\"__main\">\n",
      "<component name=\"__main\">\n",
      "<variable initial_value=\"10\" name=\"S1\" units=\"dimensionless\"/>\n",
      "<variable name=\"S2\" units=\"dimensionless\"/>\n",
      "<variable initial_value=\"0.1\" name=\"k1\" units=\"dimensionless\"/>\n",
      "<variable name=\"_J0\" units=\"dimensionless\"/>\n",
      "<math xmlns=\"http://www.w3.org/1998/Math/MathML\">\n",
      "<apply>\n",
      "<eq/>\n",
      "<ci>_J0</ci>\n",
      "<apply>\n",
      "<times/>\n",
      "<ci>k1</ci>\n",
      "<ci>S1</ci>\n",
      "</apply>\n",
      "</apply>\n",
      "</math>\n",
      "<variable name=\"time\" units=\"dimensionless\"/>\n",
      "<math xmlns=\"http://www.w3.org/1998/Math/MathML\">\n",
      "<apply>\n",
      "<eq/>\n",
      "<apply>\n",
      "<diff/>\n",
      "<bvar>\n",
      "<ci>time</ci>\n",
      "</bvar>\n",
      "<ci>S2</ci>\n",
      "</apply>\n",
      "<ci>_J0</ci>\n",
      "</apply>\n",
      "</math>\n",
      "<math xmlns=\"http://www.w3.org/1998/Math/MathML\">\n",
      "<apply>\n",
      "<eq/>\n",
      "<apply>\n",
      "<diff/>\n",
      "<bvar>\n",
      "<ci>time</ci>\n",
      "</bvar>\n",
      "<ci>S1</ci>\n",
      "</apply>\n",
      "<apply>\n",
      "<minus/>\n",
      "<ci>_J0</ci>\n",
      "</apply>\n",
      "</apply>\n",
      "</math>\n",
      "</component>\n",
      "<group>\n",
      "<relationship_ref relationship=\"encapsulation\"/>\n",
      "<component_ref component=\"__main\"/>\n",
      "</group>\n",
      "</model>\n"
     ]
    }
   ],
   "source": [
    "import antimony\n",
    "antimony.loadAntimonyString('''S1 -> S2; k1*S1; k1 = 0.1; S1 = 10''')\n",
    "ant_str = antimony.getCellMLString(antimony.getMainModuleName())\n",
    "print(ant_str)"
   ]
  },
  {
   "cell_type": "code",
   "execution_count": null,
   "metadata": {
    "collapsed": true
   },
   "outputs": [],
   "source": [
    ""
   ]
  }
 ],
 "metadata": {
  "kernelspec": {
   "display_name": "Python 2",
   "language": "python",
   "name": "python2"
  },
  "language_info": {
   "codemirror_mode": {
    "name": "ipython",
    "version": 2.0
   },
   "file_extension": ".py",
   "mimetype": "text/x-python",
   "name": "python",
   "nbconvert_exporter": "python",
   "pygments_lexer": "ipython2",
   "version": "2.7.6"
  }
 },
 "nbformat": 4,
 "nbformat_minor": 0
}