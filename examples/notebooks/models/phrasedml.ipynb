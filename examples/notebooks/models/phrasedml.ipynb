{
 "cells": [
  {
   "cell_type": "code",
   "execution_count": 4,
   "metadata": {
    "collapsed": false
   },
   "outputs": [],
   "source": [
    "%matplotlib inline"
   ]
  },
  {
   "cell_type": "code",
   "execution_count": 5,
   "metadata": {
    "collapsed": false
   },
   "outputs": [
    {
     "data": {
      "image/png": "[encoded data removed]",
      "text/plain": [
       "<matplotlib.figure.Figure at 0x7f415859dc50>"
      ]
     },
     "metadata": {},
     "output_type": "display_data"
    }
   ],
   "source": [
    "from __future__ import print_function\n",
    "import tellurium as te\n",
    "import phrasedml.phrasedml as phrasedml\n",
    "\n",
    "antimonyStr = \"\"\"\n",
    "model test\n",
    "    J0: S1 -> S2; k1*S1;\n",
    "    S1 = 10.0; S2=0.0;\n",
    "    k1 = 0.1;\n",
    "end\n",
    "\"\"\"\n",
    "phrasedmlStr = \"\"\"\n",
    "    model0 = model \"test\"\n",
    "    model1 = model \"test\" with S1=5.0, k1=0.3\n",
    "    sim0 = simulate uniform(0, 10, 100)\n",
    "    sim1 = simulate uniform_stochastic(0, 10, 100)\n",
    "    task0 = run sim0 on model0\n",
    "    task1 = run sim1 on model1\n",
    "    plot task0.time vs task0.S1, task0.S2, task1.S1, task1.S2\n",
    "\"\"\"\n",
    "\n",
    "r = te.loada(antimonyStr)\n",
    "sbmlStr = r.getSBML()\n",
    "phrasedml.setReferencedSBML(\"test\", sbmlStr)\n",
    "sedml = phrasedml.convertString(phrasedmlStr)\n",
    "\n",
    "exp = te.experiment(antimonyStr, phrasedmlStr)\n",
    "exp.execute()"
   ]
  },
  {
   "cell_type": "code",
   "execution_count": 6,
   "metadata": {
    "collapsed": false
   },
   "outputs": [
    {
     "ename": "RuntimeError",
     "evalue": "Bad input to size of model parameter",
     "output_type": "error",
     "traceback": [
      "\u001b[1;31m---------------------------------------------------------------------------\u001b[0m",
      "\u001b[1;31mRuntimeError\u001b[0m                              Traceback (most recent call last)",
      "\u001b[1;32m<ipython-input-6-eb1761a7586f>\u001b[0m in \u001b[0;36m<module>\u001b[1;34m()\u001b[0m\n\u001b[0;32m      2\u001b[0m \u001b[0mr\u001b[0m \u001b[1;33m=\u001b[0m \u001b[0mte\u001b[0m\u001b[1;33m.\u001b[0m\u001b[0mloada\u001b[0m\u001b[1;33m(\u001b[0m\u001b[1;34m\"\"\"S1 = 0\"\"\"\u001b[0m\u001b[1;33m)\u001b[0m\u001b[1;33m\u001b[0m\u001b[0m\n\u001b[0;32m      3\u001b[0m \u001b[0mr\u001b[0m\u001b[1;33m.\u001b[0m\u001b[0msteadyStateSelections\u001b[0m \u001b[1;33m=\u001b[0m \u001b[1;33m[\u001b[0m\u001b[1;34m'S1'\u001b[0m\u001b[1;33m]\u001b[0m\u001b[1;33m\u001b[0m\u001b[0m\n\u001b[1;32m----> 4\u001b[1;33m \u001b[0mr\u001b[0m\u001b[1;33m.\u001b[0m\u001b[0msteadyState\u001b[0m\u001b[1;33m(\u001b[0m\u001b[1;33m)\u001b[0m\u001b[1;33m\u001b[0m\u001b[0m\n\u001b[0m",
      "\u001b[1;32m/usr/local/lib/python2.7/dist-packages/roadrunner/roadrunner.pyc\u001b[0m in \u001b[0;36msteadyState\u001b[1;34m(self, dict)\u001b[0m\n\u001b[0;32m   2493\u001b[0m \u001b[1;33m\u001b[0m\u001b[0m\n\u001b[0;32m   2494\u001b[0m         \"\"\"\n\u001b[1;32m-> 2495\u001b[1;33m         \u001b[1;32mreturn\u001b[0m \u001b[0m_roadrunner\u001b[0m\u001b[1;33m.\u001b[0m\u001b[0mRoadRunner_steadyState\u001b[0m\u001b[1;33m(\u001b[0m\u001b[0mself\u001b[0m\u001b[1;33m,\u001b[0m \u001b[0mdict\u001b[0m\u001b[1;33m)\u001b[0m\u001b[1;33m\u001b[0m\u001b[0m\n\u001b[0m\u001b[0;32m   2496\u001b[0m \u001b[1;33m\u001b[0m\u001b[0m\n\u001b[0;32m   2497\u001b[0m     \u001b[1;32mdef\u001b[0m \u001b[0m_setSteadyStateSelections\u001b[0m\u001b[1;33m(\u001b[0m\u001b[0mself\u001b[0m\u001b[1;33m,\u001b[0m \u001b[1;33m*\u001b[0m\u001b[0margs\u001b[0m\u001b[1;33m)\u001b[0m\u001b[1;33m:\u001b[0m \u001b[1;32mreturn\u001b[0m \u001b[0m_roadrunner\u001b[0m\u001b[1;33m.\u001b[0m\u001b[0mRoadRunner__setSteadyStateSelections\u001b[0m\u001b[1;33m(\u001b[0m\u001b[0mself\u001b[0m\u001b[1;33m,\u001b[0m \u001b[1;33m*\u001b[0m\u001b[0margs\u001b[0m\u001b[1;33m)\u001b[0m\u001b[1;33m\u001b[0m\u001b[0m\n",
      "\u001b[1;31mRuntimeError\u001b[0m: Bad input to size of model parameter"
     ]
    }
   ],
   "source": [
    "import tellurium as te\n",
    "r = te.loada(\"\"\"S1 = 0\"\"\")\n",
    "r.steadyStateSelections = ['S1']\n",
    "r.steadyState()"
   ]
  },
  {
   "cell_type": "code",
   "execution_count": null,
   "metadata": {
    "collapsed": true
   },
   "outputs": [],
   "source": [
    "import matplotlib\n"
   ]
  },
  {
   "cell_type": "code",
   "execution_count": null,
   "metadata": {
    "collapsed": false
   },
   "outputs": [],
   "source": [
    "matplotlib.rcParams['axes.color_cycle'] "
   ]
  },
  {
   "cell_type": "code",
   "execution_count": null,
   "metadata": {
    "collapsed": false
   },
   "outputs": [],
   "source": [
    "5%3"
   ]
  },
  {
   "cell_type": "code",
   "execution_count": 7,
   "metadata": {
    "collapsed": true
   },
   "outputs": [],
   "source": [
    "from __future__ import print_function, division\n",
    "import tellurium as te\n",
    "import numpy as np\n",
    "import matplotlib.pyplot as plt\n",
    "import mpl_toolkits.mplot3d\n",
    "import libsedml\n",
    "import pandas\n",
    "import os.path\n",
    "\n",
    "workingDir = '/home/mkoenig/git/tellurium/tellurium/tests/testdata/sedml/sed-ml'\n",
    "\n",
    "# --------------------------------------------------------\n",
    "# Models\n",
    "# --------------------------------------------------------\n",
    "#  - model1 \n",
    "\n",
    "# Model <model1>\n",
    "model1 = te.loadSBMLModel(os.path.join(workingDir, '../models/BorisEJB.xml'))\n",
    "\n",
    "# --------------------------------------------------------\n",
    "# Tasks\n",
    "# --------------------------------------------------------\n",
    "#  - task1 \n",
    "\n",
    "# Task <task1>\n",
    "task1 = [None]\n",
    "model1.setIntegrator('cvode')\n",
    "Config = model1\n",
    "model1.conservedMoietyAnalysis = True\n",
    "model1.steadyStateSelections = ['[MKKK]', '[MKKK_P]', '[MAPK]', '[MAPK_PP]', '[MKK_P]', '[MAPK_P]', 'time', '[MKK]']\n",
    "print(model1.selections)\n",
    "print(model1.steadyStateSelections)\n",
    "task1[0] = model1.steadyState()\n",
    "print(task1)\n",
    "model1.conservedMoietyAnalysis = False"
   ]
  },
  {
   "cell_type": "code",
   "execution_count": 2,
   "metadata": {
    "collapsed": true
   },
   "outputs": [],
   "source": [
    "\n"
   ]
  },
  {
   "cell_type": "code",
   "execution_count": null,
   "metadata": {
    "collapsed": true
   },
   "outputs": [],
   "source": []
  }
 ],
 "metadata": {
  "kernelspec": {
   "display_name": "Python 2",
   "language": "python",
   "name": "python2"
  },
  "language_info": {
   "codemirror_mode": {
    "name": "ipython",
    "version": 2
   },
   "file_extension": ".py",
   "mimetype": "text/x-python",
   "name": "python",
   "nbconvert_exporter": "python",
   "pygments_lexer": "ipython2",
   "version": "2.7.6"
  }
 },
 "nbformat": 4,
 "nbformat_minor": 0
}
